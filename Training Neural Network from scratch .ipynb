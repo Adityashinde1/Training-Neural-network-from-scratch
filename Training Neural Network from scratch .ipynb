{
 "cells": [
  {
   "cell_type": "code",
   "execution_count": 1,
   "metadata": {},
   "outputs": [],
   "source": [
    "from sklearn.datasets import fetch_openml\n",
    "from sklearn.metrics import classification_report, confusion_matrix, accuracy_score\n",
    "import numpy as np\n",
    "from datetime import datetime\n",
    "import matplotlib.pyplot as plt\n",
    "import warnings \n",
    "warnings.filterwarnings('ignore')"
   ]
  },
  {
   "cell_type": "code",
   "execution_count": 2,
   "metadata": {},
   "outputs": [],
   "source": [
    "# importing MNIST dataset\n",
    "mnist = fetch_openml('mnist_784')\n",
    "X, y = mnist[\"data\"], mnist[\"target\"]\n",
    "\n",
    "# scale\n",
    "X = X / 255\n",
    "\n",
    "# one-hot encode labels\n",
    "digits = 10\n",
    "examples = y.shape[0]\n",
    "y = y.reshape(1, examples)\n",
    "Y_new = np.eye(digits)[y.astype('int32')]\n",
    "Y_new = Y_new.T.reshape(digits, examples)\n",
    "\n",
    "# split, reshape, shuffle\n",
    "m = 60000\n",
    "m_test = X.shape[0] - m\n",
    "X_train, X_test = X[:m].T, X[m:].T\n",
    "Y_train, Y_test = Y_new[:,:m], Y_new[:,m:]\n",
    "shuffle_index = np.random.permutation(m)\n",
    "X_train, Y_train = X_train[:, shuffle_index], Y_train[:, shuffle_index]"
   ]
  },
  {
   "cell_type": "code",
   "execution_count": 3,
   "metadata": {},
   "outputs": [
    {
     "data": {
      "text/plain": [
       "(784, 60000)"
      ]
     },
     "execution_count": 3,
     "metadata": {},
     "output_type": "execute_result"
    }
   ],
   "source": [
    "X_train.shape"
   ]
  },
  {
   "cell_type": "code",
   "execution_count": 4,
   "metadata": {},
   "outputs": [
    {
     "data": {
      "text/plain": [
       "(10, 60000)"
      ]
     },
     "execution_count": 4,
     "metadata": {},
     "output_type": "execute_result"
    }
   ],
   "source": [
    "Y_train.shape"
   ]
  },
  {
   "cell_type": "code",
   "execution_count": 5,
   "metadata": {},
   "outputs": [],
   "source": [
    "# Neural Network Nodes\n",
    "\n",
    "input_layer = 784\n",
    "hidden_1 = 128\n",
    "hidden_2 = 64\n",
    "output_layer = 10"
   ]
  },
  {
   "cell_type": "code",
   "execution_count": 6,
   "metadata": {},
   "outputs": [],
   "source": [
    "# Weights and Biases initialization \n",
    "\n",
    "params = {\"W1\": np.random.randn(hidden_1, input_layer) * np.sqrt(1 / input_layer),\n",
    "          \"b1\": np.zeros((hidden_1, 1)),\n",
    "          \"W2\": np.random.randn(hidden_2, hidden_1) * np.sqrt(1 / hidden_1),\n",
    "          \"b2\": np.zeros((hidden_2, 1)),\n",
    "          \"W3\": np.random.randn(output_layer, hidden_2) * np.sqrt(1 / hidden_2),\n",
    "          \"b3\": np.zeros((output_layer, 1))}"
   ]
  },
  {
   "cell_type": "code",
   "execution_count": 7,
   "metadata": {},
   "outputs": [],
   "source": [
    "# Cross entropy Loss function\n",
    "\n",
    "def compute_loss(Y, Y_hat):\n",
    "    L_sum = np.sum(np.multiply(Y, np.log(Y_hat)))\n",
    "    m = Y.shape[1]\n",
    "    L = -(1./m) * L_sum\n",
    "    return L"
   ]
  },
  {
   "cell_type": "code",
   "execution_count": 8,
   "metadata": {},
   "outputs": [],
   "source": [
    "# Softmax Activation Function\n",
    "\n",
    "def softmax(x):\n",
    "    exps = np.exp(x - x.max())\n",
    "    return exps / np.sum(exps, axis=0)"
   ]
  },
  {
   "cell_type": "code",
   "execution_count": 9,
   "metadata": {},
   "outputs": [],
   "source": [
    "# Sigmoid Activation Function\n",
    "\n",
    "def sigmoid(x):\n",
    "    return 1/(1 + np.exp(-x))"
   ]
  },
  {
   "cell_type": "code",
   "execution_count": 10,
   "metadata": {},
   "outputs": [],
   "source": [
    "# Derivative of Sigmoid Activation Function\n",
    "\n",
    "def derivative_sigmoid(x):\n",
    "    return (np.exp(-x))/((np.exp(-x)+1)**2)"
   ]
  },
  {
   "cell_type": "code",
   "execution_count": 11,
   "metadata": {},
   "outputs": [],
   "source": [
    "# Function for Forward propagation\n",
    "\n",
    "def feed_forward(X, params):\n",
    "\n",
    "    cache = {}\n",
    "    \n",
    "    cache[\"A0\"] = X      # Input feature received in the Input layer \n",
    "    \n",
    "    cache[\"Z1\"] = np.dot(params[\"W1\"], cache[\"A0\"]) + params[\"b1\"] # Input * weights + bias\n",
    "    cache[\"A1\"] = sigmoid(cache[\"Z1\"]) # output from the first Hidden layer \n",
    "    \n",
    "    cache[\"Z2\"] = np.dot(params[\"W2\"], cache[\"A1\"]) + params[\"b2\"] # Input * weights + bias\n",
    "    cache[\"A2\"] = sigmoid(cache[\"Z2\"]) # output from the Second hidden layer\n",
    "    \n",
    "    cache[\"Z3\"] = np.dot(params[\"W3\"], cache[\"A2\"]) + params[\"b3\"] # # Input * weights + bias\n",
    "    cache[\"A3\"] = softmax(cache[\"Z3\"]) # output from the output layer\n",
    "\n",
    "    return cache"
   ]
  },
  {
   "cell_type": "code",
   "execution_count": 12,
   "metadata": {},
   "outputs": [],
   "source": [
    "# Function for Backward propagation\n",
    "\n",
    "def back_propagate(X, Y, params, cache, m_batch):\n",
    "\n",
    "    dZ3 = cache[\"A3\"] - Y       # Loss\n",
    "    \n",
    "    dW3 = (1 / m_batch) * np.dot(dZ3, cache[\"A2\"].T)   \n",
    "    db3 = (1 / m_batch) * np.sum(dZ3, axis=1, keepdims=True) \n",
    "\n",
    "    dA2 = np.dot(params[\"W3\"].T, dZ3) \n",
    "    dZ2 = dA2 * derivative_sigmoid(cache[\"Z2\"]) \n",
    "\n",
    "    dW2 = (1 / m_batch) * np.dot(dZ2, cache[\"A1\"].T) \n",
    "    db2 = (1 / m_batch) * np.sum(dZ2, axis=1, keepdims=True)\n",
    "    \n",
    "    dA1 = np.dot(params[\"W2\"].T, dZ2)\n",
    "    dZ1 = dA1 * derivative_sigmoid(cache[\"Z1\"])\n",
    "    \n",
    "    dW1 = (1 / m_batch) * np.dot(dZ1, cache['A0'].T)\n",
    "    db1 = (1 / m_batch) * np.sum(dZ1, axis=1, keepdims=True)\n",
    "\n",
    "    grads = {\"dW1\": dW1, \"db1\": db1, \"dW2\": dW2, \"db2\": db2, \"dW3\": dW3, \"db3\": db3}\n",
    "\n",
    "    return grads"
   ]
  },
  {
   "cell_type": "code",
   "execution_count": 13,
   "metadata": {},
   "outputs": [],
   "source": [
    "# Learning Rate\n",
    "l_rate = 0.1\n",
    "\n",
    "# epochs\n",
    "epochs = 50\n",
    "\n",
    "# batch size \n",
    "batch_size = 64\n",
    "\n",
    "# batches for single iteration\n",
    "batches = X_train.shape[1] // batch_size\n",
    "\n",
    "train_loss_list = []\n",
    "\n",
    "test_loss_list = []\n",
    "\n",
    "train_accuracy = []\n",
    "\n",
    "test_accuracy = []\n",
    "\n",
    "epochs_list = range(epochs)"
   ]
  },
  {
   "cell_type": "code",
   "execution_count": 14,
   "metadata": {},
   "outputs": [
    {
     "name": "stdout",
     "output_type": "stream",
     "text": [
      "Training Started..........> at 2021-06-10 19:52:31.260469 \n",
      "\n",
      "Epoch 1: training loss = 0.6452970467301935, test loss = 0.63234741735334\n",
      "Epoch 2: training loss = 0.4041753535117364, test loss = 0.39164040118061644\n",
      "Epoch 3: training loss = 0.3412934049462882, test loss = 0.3312841921469555\n",
      "Epoch 4: training loss = 0.3059274433356674, test loss = 0.2987501460960389\n",
      "Epoch 5: training loss = 0.279263308143389, test loss = 0.2746298438623377\n",
      "Epoch 6: training loss = 0.25685341298073244, test loss = 0.25433006724894586\n",
      "Epoch 7: training loss = 0.23733333145468918, test loss = 0.2365361406244264\n",
      "Epoch 8: training loss = 0.22016079426607582, test loss = 0.22080782785117453\n",
      "Epoch 9: training loss = 0.20499656712231018, test loss = 0.2069055412333417\n",
      "Epoch 10: training loss = 0.19155463198857658, test loss = 0.1946245185289599\n",
      "Epoch 11: training loss = 0.1795903309235057, test loss = 0.1837769134888139\n",
      "Epoch 12: training loss = 0.1688947005981612, test loss = 0.1741851404252978\n",
      "Epoch 13: training loss = 0.1592831592264241, test loss = 0.16567250870552377\n",
      "Epoch 14: training loss = 0.15059243890009147, test loss = 0.15806778443878175\n",
      "Epoch 15: training loss = 0.1426849424261002, test loss = 0.1512202264709496\n",
      "Epoch 16: training loss = 0.13545070163705675, test loss = 0.1450094877956828\n",
      "Epoch 17: training loss = 0.12880319876808935, test loss = 0.13934469019977683\n",
      "Epoch 18: training loss = 0.12267257961111447, test loss = 0.13415762719656188\n",
      "Epoch 19: training loss = 0.11700036175814518, test loss = 0.12939599888345382\n",
      "Epoch 20: training loss = 0.11173669622605815, test loss = 0.12501871356127864\n",
      "Epoch 21: training loss = 0.10683912391175672, test loss = 0.12099269307417462\n",
      "Epoch 22: training loss = 0.10227160445607057, test loss = 0.11729033689435257\n",
      "Epoch 23: training loss = 0.09800326725968145, test loss = 0.11388731465956396\n",
      "Epoch 24: training loss = 0.09400702080395933, test loss = 0.11076083344240538\n",
      "Epoch 25: training loss = 0.09025846216398363, test loss = 0.10788868922986956\n",
      "Epoch 26: training loss = 0.08673531858131668, test loss = 0.1052491402681939\n",
      "Epoch 27: training loss = 0.08341728977310897, test loss = 0.1028212806445243\n",
      "Epoch 28: training loss = 0.0802860254209916, test loss = 0.10058550730424776\n",
      "Epoch 29: training loss = 0.07732506303868818, test loss = 0.09852383040976154\n",
      "Epoch 30: training loss = 0.07451969077489941, test loss = 0.0966199768507895\n",
      "Epoch 31: training loss = 0.07185677859222461, test loss = 0.09485935453465003\n",
      "Epoch 32: training loss = 0.06932462545188418, test loss = 0.0932289616663311\n",
      "Epoch 33: training loss = 0.06691283571925684, test loss = 0.09171728452071547\n",
      "Epoch 34: training loss = 0.06461220776465137, test loss = 0.09031418448909338\n",
      "Epoch 35: training loss = 0.06241461199488486, test loss = 0.08901075986636708\n",
      "Epoch 36: training loss = 0.0603128491431175, test loss = 0.08779917716934756\n",
      "Epoch 37: training loss = 0.05830049739701253, test loss = 0.0866724834827685\n",
      "Epoch 38: training loss = 0.05637176724293863, test loss = 0.08562442177053894\n",
      "Epoch 39: training loss = 0.05452138202271631, test loss = 0.08464927114873282\n",
      "Epoch 40: training loss = 0.05274449329723135, test loss = 0.08374172655011937\n",
      "Epoch 41: training loss = 0.051036629468779675, test loss = 0.08289682203759714\n",
      "Epoch 42: training loss = 0.049393668740184596, test loss = 0.08210989329927075\n",
      "Epoch 43: training loss = 0.04781182508931009, test loss = 0.08137656950895245\n",
      "Epoch 44: training loss = 0.04628763767230708, test loss = 0.08069278284984036\n",
      "Epoch 45: training loss = 0.044817958014068515, test loss = 0.08005478465954285\n",
      "Epoch 46: training loss = 0.04339993341370716, test loss = 0.07945915922801351\n",
      "Epoch 47: training loss = 0.042030987600204954, test loss = 0.07890282890302017\n",
      "Epoch 48: training loss = 0.04070880030746876, test loss = 0.0783830468883975\n",
      "Epoch 49: training loss = 0.03943128671205894, test loss = 0.07789737679229465\n",
      "Epoch 50: training loss = 0.038196576662193796, test loss = 0.07744366041816142\n",
      "\n",
      "Time spent for training: 0:01:40.020823\n"
     ]
    }
   ],
   "source": [
    "# Training the model\n",
    "\n",
    "start_time = datetime.now()\n",
    "print(\"Training Started..........> at {}\".format(start_time), \"\\n\")\n",
    "for i in range(epochs):\n",
    "    \n",
    "    for j in range(batches):\n",
    "\n",
    "        begin = j * batch_size\n",
    "        end = min(begin + batch_size, X_train.shape[1] - 1)\n",
    "        X = X_train[:, begin:end]\n",
    "        Y = Y_train[:, begin:end]\n",
    "        m_batch = end - begin\n",
    "\n",
    "        cache = feed_forward(X, params)\n",
    "        grads = back_propagate(X, Y, params, cache, m_batch)\n",
    "        \n",
    "        # Updating Weights and Biases\n",
    "        \n",
    "        params[\"W1\"] = params[\"W1\"] - l_rate * grads[\"dW1\"]\n",
    "        params[\"b1\"] = params[\"b1\"] - l_rate * grads[\"db1\"]\n",
    "        params[\"W2\"] = params[\"W2\"] - l_rate * grads[\"dW2\"]\n",
    "        params[\"b2\"] = params[\"b2\"] - l_rate * grads[\"db2\"]\n",
    "        params[\"W3\"] = params[\"W3\"] - l_rate * grads[\"dW3\"]\n",
    "        params[\"b3\"] = params[\"b3\"] - l_rate * grads[\"db3\"]\n",
    "    \n",
    "    cache = feed_forward(X_train, params)\n",
    "    predictions = np.argmax(cache[\"A3\"], axis=0)\n",
    "    labels = np.argmax(Y_train, axis=0)\n",
    "    train_loss = compute_loss(Y_train, cache[\"A3\"])\n",
    "    train_loss_list.append(round(train_loss,2))\n",
    "    train_accuracy.append(accuracy_score(labels, predictions))\n",
    "    \n",
    "    cache = feed_forward(X_test, params)\n",
    "    predictions = np.argmax(cache[\"A3\"], axis=0)\n",
    "    labels = np.argmax(Y_test, axis=0)\n",
    "    test_loss = compute_loss(Y_test, cache[\"A3\"])\n",
    "    test_loss_list.append(round(test_loss,2))\n",
    "    test_accuracy.append(accuracy_score(labels, predictions))\n",
    "    \n",
    "    print(\"Epoch {}: training loss = {}, test loss = {}\".format(i + 1, train_loss, test_loss))\n",
    "print(\"\")  \n",
    "res = datetime.now() - start_time\n",
    "print(\"Time spent for training: {0}\".format(res))"
   ]
  },
  {
   "cell_type": "code",
   "execution_count": 15,
   "metadata": {},
   "outputs": [
    {
     "name": "stdout",
     "output_type": "stream",
     "text": [
      "              precision    recall  f1-score   support\n",
      "\n",
      "           0       0.99      0.97      0.98       996\n",
      "           1       0.99      0.98      0.99      1142\n",
      "           2       0.98      0.98      0.98      1034\n",
      "           3       0.98      0.96      0.97      1028\n",
      "           4       0.96      0.99      0.97       958\n",
      "           5       0.96      0.98      0.97       874\n",
      "           6       0.97      0.99      0.98       943\n",
      "           7       0.96      0.98      0.97      1017\n",
      "           8       0.98      0.96      0.97       992\n",
      "           9       0.97      0.96      0.96      1016\n",
      "\n",
      "    accuracy                           0.97     10000\n",
      "   macro avg       0.97      0.97      0.97     10000\n",
      "weighted avg       0.97      0.97      0.97     10000\n",
      "\n"
     ]
    }
   ],
   "source": [
    "# Classification Report\n",
    "\n",
    "cache = feed_forward(X_test, params)\n",
    "predictions = np.argmax(cache[\"A3\"], axis=0)\n",
    "labels = np.argmax(Y_test, axis=0)\n",
    "\n",
    "print(classification_report(predictions, labels))"
   ]
  },
  {
   "cell_type": "code",
   "execution_count": 16,
   "metadata": {},
   "outputs": [
    {
     "data": {
      "image/png": "[encoded data removed]",
      "text/plain": [
       "<Figure size 720x432 with 1 Axes>"
      ]
     },
     "metadata": {
      "needs_background": "light"
     },
     "output_type": "display_data"
    }
   ],
   "source": [
    "# Training Loss vs Validation Loss graph\n",
    "\n",
    "plt.figure(figsize=(10,6))\n",
    "plt.plot(epochs_list, train_loss_list, 'g', label='Training loss')\n",
    "plt.plot(epochs_list, test_loss_list, 'b', label='Validation loss')\n",
    "plt.title('Training and Validation loss')\n",
    "plt.xlabel('Epochs')\n",
    "plt.ylabel('Loss')\n",
    "plt.legend()\n",
    "plt.show()"
   ]
  },
  {
   "cell_type": "code",
   "execution_count": 17,
   "metadata": {},
   "outputs": [
    {
     "data": {
      "image/png": "[encoded data removed]",
      "text/plain": [
       "<Figure size 720x432 with 1 Axes>"
      ]
     },
     "metadata": {
      "needs_background": "light"
     },
     "output_type": "display_data"
    }
   ],
   "source": [
    "# Training Accuracy vs Validation Accuracy graph\n",
    "\n",
    "plt.figure(figsize=(10,6))\n",
    "plt.plot(epochs_list, train_accuracy, 'r', label='Training Accuracy')\n",
    "plt.plot(epochs_list, test_accuracy, 'k', label='Validation Accuracy')\n",
    "plt.title('Training and Validation Accuracy')\n",
    "plt.xlabel('Epochs')\n",
    "plt.ylabel('Accuracy')\n",
    "plt.legend()\n",
    "plt.show()"
   ]
  }
 ],
 "metadata": {
  "kernelspec": {
   "display_name": "Python 3",
   "language": "python",
   "name": "python3"
  },
  "language_info": {
   "codemirror_mode": {
    "name": "ipython",
    "version": 3
   },
   "file_extension": ".py",
   "mimetype": "text/x-python",
   "name": "python",
   "nbconvert_exporter": "python",
   "pygments_lexer": "ipython3",
   "version": "3.7.3"
  }
 },
 "nbformat": 4,
 "nbformat_minor": 4
}
