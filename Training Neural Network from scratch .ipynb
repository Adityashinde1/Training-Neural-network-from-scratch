{
 "cells": [
  {
   "cell_type": "code",
   "execution_count": 1,
   "metadata": {},
   "outputs": [],
   "source": [
    "from sklearn.datasets import fetch_openml\n",
    "from sklearn.metrics import classification_report, confusion_matrix, accuracy_score\n",
    "import numpy as np\n",
    "from datetime import datetime\n",
    "import matplotlib.pyplot as plt\n",
    "import warnings \n",
    "warnings.filterwarnings('ignore')"
   ]
  },
  {
   "cell_type": "code",
   "execution_count": 2,
   "metadata": {},
   "outputs": [],
   "source": [
    "# importing MNIST dataset\n",
    "mnist = fetch_openml('mnist_784')\n",
    "X, y = mnist[\"data\"], mnist[\"target\"]\n",
    "\n",
    "# scale\n",
    "X = X / 255\n",
    "\n",
    "# one-hot encode labels\n",
    "digits = 10\n",
    "examples = y.shape[0]\n",
    "y = y.reshape(1, examples)\n",
    "Y_new = np.eye(digits)[y.astype('int32')]\n",
    "Y_new = Y_new.T.reshape(digits, examples)\n",
    "\n",
    "# split, reshape, shuffle\n",
    "m = 60000\n",
    "m_test = X.shape[0] - m\n",
    "X_train, X_test = X[:m].T, X[m:].T\n",
    "Y_train, Y_test = Y_new[:,:m], Y_new[:,m:]\n",
    "shuffle_index = np.random.permutation(m)\n",
    "X_train, Y_train = X_train[:, shuffle_index], Y_train[:, shuffle_index]"
   ]
  },
  {
   "cell_type": "code",
   "execution_count": 3,
   "metadata": {},
   "outputs": [
    {
     "data": {
      "text/plain": [
       "(784, 60000)"
      ]
     },
     "execution_count": 3,
     "metadata": {},
     "output_type": "execute_result"
    }
   ],
   "source": [
    "X_train.shape"
   ]
  },
  {
   "cell_type": "code",
   "execution_count": 4,
   "metadata": {},
   "outputs": [
    {
     "data": {
      "text/plain": [
       "(10, 60000)"
      ]
     },
     "execution_count": 4,
     "metadata": {},
     "output_type": "execute_result"
    }
   ],
   "source": [
    "Y_train.shape"
   ]
  },
  {
   "cell_type": "code",
   "execution_count": 5,
   "metadata": {},
   "outputs": [],
   "source": [
    "# Neural Network Nodes\n",
    "\n",
    "input_layer = 784\n",
    "hidden_1 = 128\n",
    "hidden_2 = 64\n",
    "output_layer = 10"
   ]
  },
  {
   "cell_type": "code",
   "execution_count": 6,
   "metadata": {},
   "outputs": [],
   "source": [
    "# Weights and Biases initialization \n",
    "\n",
    "params = {\"W1\": np.random.randn(hidden_1, input_layer) * np.sqrt(1 / input_layer),\n",
    "          \"b1\": np.zeros((hidden_1, 1)),\n",
    "          \"W2\": np.random.randn(hidden_2, hidden_1) * np.sqrt(1 / hidden_1),\n",
    "          \"b2\": np.zeros((hidden_2, 1)),\n",
    "          \"W3\": np.random.randn(output_layer, hidden_2) * np.sqrt(1 / hidden_2),\n",
    "          \"b3\": np.zeros((output_layer, 1))}"
   ]
  },
  {
   "cell_type": "code",
   "execution_count": 8,
   "metadata": {},
   "outputs": [],
   "source": [
    "# Cross entropy Loss function\n",
    "\n",
    "def compute_loss(Y, Y_hat):\n",
    "    L_sum = np.sum(np.multiply(Y, np.log(Y_hat)))\n",
    "    m = Y.shape[1]\n",
    "    L = -(1./m) * L_sum\n",
    "    return L"
   ]
  },
  {
   "cell_type": "code",
   "execution_count": 9,
   "metadata": {},
   "outputs": [],
   "source": [
    "# Softmax Activation Function\n",
    "\n",
    "def softmax(x):\n",
    "    exps = np.exp(x - x.max())\n",
    "    return exps / np.sum(exps, axis=0)"
   ]
  },
  {
   "cell_type": "code",
   "execution_count": 10,
   "metadata": {},
   "outputs": [],
   "source": [
    "# Sigmoid Activation Function\n",
    "\n",
    "def sigmoid(x):\n",
    "    return 1/(1 + np.exp(-x))"
   ]
  },
  {
   "cell_type": "code",
   "execution_count": 11,
   "metadata": {},
   "outputs": [],
   "source": [
    "# Derivative of Sigmoid Activation Function\n",
    "\n",
    "def derivative_sigmoid(x):\n",
    "    return (np.exp(-x))/((np.exp(-x)+1)**2)"
   ]
  },
  {
   "cell_type": "code",
   "execution_count": 12,
   "metadata": {},
   "outputs": [],
   "source": [
    "# Function for Forward propagation\n",
    "\n",
    "def feed_forward(X, params):\n",
    "\n",
    "    cache = {}\n",
    "    \n",
    "    cache[\"A0\"] = X      # Input feature received in the Input layer \n",
    "    \n",
    "    cache[\"Z1\"] = np.dot(params[\"W1\"], cache[\"A0\"]) + params[\"b1\"] # Input * weights + bias\n",
    "    cache[\"A1\"] = sigmoid(cache[\"Z1\"]) # output from the first Hidden layer \n",
    "    \n",
    "    cache[\"Z2\"] = np.dot(params[\"W2\"], cache[\"A1\"]) + params[\"b2\"] # Input * weights + bias\n",
    "    cache[\"A2\"] = sigmoid(cache[\"Z2\"]) # output from the Second hidden layer\n",
    "    \n",
    "    cache[\"Z3\"] = np.dot(params[\"W3\"], cache[\"A2\"]) + params[\"b3\"] # # Input * weights + bias\n",
    "    cache[\"A3\"] = softmax(cache[\"Z3\"]) # output from the output layer\n",
    "\n",
    "    return cache"
   ]
  },
  {
   "cell_type": "code",
   "execution_count": 13,
   "metadata": {},
   "outputs": [],
   "source": [
    "# Function for Backward propagation\n",
    "\n",
    "def back_propagate(X, Y, params, cache, m_batch):\n",
    "\n",
    "    dZ3 = cache[\"A3\"] - Y       # Loss\n",
    "    \n",
    "    dW3 = (1 / m_batch) * np.dot(dZ3, cache[\"A2\"].T)   \n",
    "    db3 = (1 / m_batch) * np.sum(dZ3, axis=1, keepdims=True) \n",
    "\n",
    "    dA2 = np.dot(params[\"W3\"].T, dZ3) \n",
    "    dZ2 = dA2 * derivative_sigmoid(cache[\"Z2\"]) \n",
    "\n",
    "    dW2 = (1 / m_batch) * np.dot(dZ2, cache[\"A1\"].T) \n",
    "    db2 = (1 / m_batch) * np.sum(dZ2, axis=1, keepdims=True)\n",
    "    \n",
    "    dA1 = np.dot(params[\"W2\"].T, dZ2)\n",
    "    dZ1 = dA1 * derivative_sigmoid(cache[\"Z1\"])\n",
    "    \n",
    "    dW1 = (1 / m_batch) * np.dot(dZ1, cache['A0'].T)\n",
    "    db1 = (1 / m_batch) * np.sum(dZ1, axis=1, keepdims=True)\n",
    "\n",
    "    grads = {\"dW1\": dW1, \"db1\": db1, \"dW2\": dW2, \"db2\": db2, \"dW3\": dW3, \"db3\": db3}\n",
    "\n",
    "    return grads"
   ]
  },
  {
   "cell_type": "code",
   "execution_count": 14,
   "metadata": {},
   "outputs": [],
   "source": [
    "# Learning Rate\n",
    "l_rate = 0.1\n",
    "\n",
    "# epochs\n",
    "epochs = 50\n",
    "\n",
    "# batch size \n",
    "batch_size = 64\n",
    "\n",
    "# batches for single iteration\n",
    "batches = X_train.shape[1] // batch_size\n",
    "\n",
    "train_loss_list = []\n",
    "\n",
    "test_loss_list = []\n",
    "\n",
    "train_accuracy = []\n",
    "\n",
    "test_accuracy = []\n",
    "\n",
    "epochs_list = range(epochs)"
   ]
  },
  {
   "cell_type": "code",
   "execution_count": 15,
   "metadata": {},
   "outputs": [
    {
     "name": "stdout",
     "output_type": "stream",
     "text": [
      "Training Started..........> at 2021-06-10 18:48:14.093188 \n",
      "\n",
      "Epoch 1: training loss = 0.6864269652607118, test loss = 0.673766801948006\n",
      "Epoch 2: training loss = 0.42069266981216386, test loss = 0.4073650661331713\n",
      "Epoch 3: training loss = 0.3486479749152676, test loss = 0.3373142354518724\n",
      "Epoch 4: training loss = 0.30965521562328935, test loss = 0.3007260178947622\n",
      "Epoch 5: training loss = 0.28074479914354894, test loss = 0.2742977092064345\n",
      "Epoch 6: training loss = 0.2567494687295097, test loss = 0.25259665164326134\n",
      "Epoch 7: training loss = 0.23612504952740515, test loss = 0.2339912883464562\n",
      "Epoch 8: training loss = 0.21820426977932286, test loss = 0.2178446658469083\n",
      "Epoch 9: training loss = 0.20257367776216503, test loss = 0.20382098265311077\n",
      "Epoch 10: training loss = 0.1888839991745855, test loss = 0.19163826301720874\n",
      "Epoch 11: training loss = 0.17682086629918878, test loss = 0.18102642711403516\n",
      "Epoch 12: training loss = 0.1661097848792092, test loss = 0.17173296917021305\n",
      "Epoch 13: training loss = 0.1565212071190245, test loss = 0.16353154393214914\n",
      "Epoch 14: training loss = 0.1478713628692218, test loss = 0.15622993165673865\n",
      "Epoch 15: training loss = 0.140017324063722, test loss = 0.1496729802658095\n",
      "Epoch 16: training loss = 0.1328485490764457, test loss = 0.1437392108514513\n",
      "Epoch 17: training loss = 0.12627807166636493, test loss = 0.13833413126918703\n",
      "Epoch 18: training loss = 0.12023509091123598, test loss = 0.1333835476834086\n",
      "Epoch 19: training loss = 0.11465970963624027, test loss = 0.12882826935606356\n",
      "Epoch 20: training loss = 0.10949988232177621, test loss = 0.1246204639548393\n",
      "Epoch 21: training loss = 0.10470995585957817, test loss = 0.12072136796643522\n",
      "Epoch 22: training loss = 0.10024993331377029, test loss = 0.1170996011509367\n",
      "Epoch 23: training loss = 0.09608492334637109, test loss = 0.11372957713724487\n",
      "Epoch 24: training loss = 0.09218462725994868, test loss = 0.1105900610129625\n",
      "Epoch 25: training loss = 0.08852283848926906, test loss = 0.10766306210474662\n",
      "Epoch 26: training loss = 0.08507694039128329, test loss = 0.10493308472608108\n",
      "Epoch 27: training loss = 0.08182740584738656, test loss = 0.10238662547368677\n",
      "Epoch 28: training loss = 0.07875731349431908, test loss = 0.100011786805888\n",
      "Epoch 29: training loss = 0.07585189399517282, test loss = 0.09779793130851443\n",
      "Epoch 30: training loss = 0.07309811942643113, test loss = 0.0957353635875609\n",
      "Epoch 31: training loss = 0.07048435108632231, test loss = 0.09381505120079471\n",
      "Epoch 32: training loss = 0.06800005843651268, test loss = 0.09202839326035171\n",
      "Epoch 33: training loss = 0.0656356131831851, test loss = 0.09036704902340541\n",
      "Epoch 34: training loss = 0.06338215249680108, test loss = 0.08882284747689222\n",
      "Epoch 35: training loss = 0.06123149869497449, test loss = 0.08738778852707245\n",
      "Epoch 36: training loss = 0.05917612047006437, test loss = 0.08605411676096487\n",
      "Epoch 37: training loss = 0.05720912107698739, test loss = 0.08481442633262053\n",
      "Epoch 38: training loss = 0.05532423981923998, test loss = 0.08366175752585589\n",
      "Epoch 39: training loss = 0.053515854171058405, test loss = 0.08258966324115918\n",
      "Epoch 40: training loss = 0.05177897140822231, test loss = 0.08159224023123654\n",
      "Epoch 41: training loss = 0.05010920127922256, test loss = 0.0806641282595637\n",
      "Epoch 42: training loss = 0.048502705390327645, test loss = 0.0798004827468413\n",
      "Epoch 43: training loss = 0.04695612440571598, test loss = 0.0789969270442206\n",
      "Epoch 44: training loss = 0.04546648988074218, test loss = 0.07824949124226617\n",
      "Epoch 45: training loss = 0.04403113198191126, test loss = 0.07755454531448974\n",
      "Epoch 46: training loss = 0.04264759594436533, test loss = 0.07690873461376321\n",
      "Epoch 47: training loss = 0.04131357796641582, test loss = 0.07630892476820327\n",
      "Epoch 48: training loss = 0.04002688574962634, test loss = 0.07575216079404981\n",
      "Epoch 49: training loss = 0.03878542213352926, test loss = 0.07523564202374144\n",
      "Epoch 50: training loss = 0.037587185110874326, test loss = 0.07475671094796829\n",
      "\n",
      "Time spent for training: 0:01:31.430657\n"
     ]
    }
   ],
   "source": [
    "# Training the model\n",
    "\n",
    "start_time = datetime.now()\n",
    "print(\"Training Started..........> at {}\".format(start_time), \"\\n\")\n",
    "for i in range(epochs):\n",
    "    \n",
    "    for j in range(batches):\n",
    "\n",
    "        begin = j * batch_size\n",
    "        end = min(begin + batch_size, X_train.shape[1] - 1)\n",
    "        X = X_train[:, begin:end]\n",
    "        Y = Y_train[:, begin:end]\n",
    "        m_batch = end - begin\n",
    "\n",
    "        cache = feed_forward(X, params)\n",
    "        grads = back_propagate(X, Y, params, cache, m_batch)\n",
    "        \n",
    "        # Updating Weights and Biases\n",
    "        \n",
    "        params[\"W1\"] = params[\"W1\"] - l_rate * grads[\"dW1\"]\n",
    "        params[\"b1\"] = params[\"b1\"] - l_rate * grads[\"db1\"]\n",
    "        params[\"W2\"] = params[\"W2\"] - l_rate * grads[\"dW2\"]\n",
    "        params[\"b2\"] = params[\"b2\"] - l_rate * grads[\"db2\"]\n",
    "        params[\"W3\"] = params[\"W3\"] - l_rate * grads[\"dW3\"]\n",
    "        params[\"b3\"] = params[\"b3\"] - l_rate * grads[\"db3\"]\n",
    "    \n",
    "    cache = feed_forward(X_train, params)\n",
    "    predictions = np.argmax(cache[\"A3\"], axis=0)\n",
    "    labels = np.argmax(Y_train, axis=0)\n",
    "    train_loss = compute_loss(Y_train, cache[\"A3\"])\n",
    "    train_loss_list.append(round(train_loss,2))\n",
    "    train_accuracy.append(accuracy_score(labels, predictions))\n",
    "    \n",
    "    cache = feed_forward(X_test, params)\n",
    "    predictions = np.argmax(cache[\"A3\"], axis=0)\n",
    "    labels = np.argmax(Y_test, axis=0)\n",
    "    test_loss = compute_loss(Y_test, cache[\"A3\"])\n",
    "    test_loss_list.append(round(test_loss,2))\n",
    "    test_accuracy.append(accuracy_score(labels, predictions))\n",
    "    \n",
    "    print(\"Epoch {}: training loss = {}, test loss = {}\".format(i + 1, train_loss, test_loss))\n",
    "print(\"\")  \n",
    "res = datetime.now() - start_time\n",
    "print(\"Time spent for training: {0}\".format(res))"
   ]
  },
  {
   "cell_type": "code",
   "execution_count": 16,
   "metadata": {},
   "outputs": [
    {
     "name": "stdout",
     "output_type": "stream",
     "text": [
      "              precision    recall  f1-score   support\n",
      "\n",
      "           0       0.99      0.97      0.98       994\n",
      "           1       0.99      0.99      0.99      1143\n",
      "           2       0.98      0.98      0.98      1033\n",
      "           3       0.97      0.98      0.97       995\n",
      "           4       0.97      0.98      0.97       974\n",
      "           5       0.97      0.97      0.97       893\n",
      "           6       0.98      0.98      0.98       954\n",
      "           7       0.97      0.98      0.97      1014\n",
      "           8       0.97      0.97      0.97       975\n",
      "           9       0.98      0.96      0.97      1025\n",
      "\n",
      "    accuracy                           0.98     10000\n",
      "   macro avg       0.98      0.98      0.98     10000\n",
      "weighted avg       0.98      0.98      0.98     10000\n",
      "\n"
     ]
    }
   ],
   "source": [
    "# Classification Report\n",
    "\n",
    "cache = feed_forward(X_test, params)\n",
    "predictions = np.argmax(cache[\"A3\"], axis=0)\n",
    "labels = np.argmax(Y_test, axis=0)\n",
    "\n",
    "print(classification_report(predictions, labels))"
   ]
  },
  {
   "cell_type": "code",
   "execution_count": 17,
   "metadata": {},
   "outputs": [
    {
     "data": {
      "image/png": "[encoded data removed]",
      "text/plain": [
       "<Figure size 720x432 with 1 Axes>"
      ]
     },
     "metadata": {
      "needs_background": "light"
     },
     "output_type": "display_data"
    }
   ],
   "source": [
    "# Training Loss vs Validation Loss graph\n",
    "\n",
    "plt.figure(figsize=(10,6))\n",
    "plt.plot(epochs_list, train_loss_list, 'g', label='Training loss')\n",
    "plt.plot(epochs_list, test_loss_list, 'b', label='Validation loss')\n",
    "plt.title('Training and Validation loss')\n",
    "plt.xlabel('Epochs')\n",
    "plt.ylabel('Loss')\n",
    "plt.legend()\n",
    "plt.show()"
   ]
  },
  {
   "cell_type": "code",
   "execution_count": 18,
   "metadata": {},
   "outputs": [
    {
     "data": {
      "image/png": "[encoded data removed]",
      "text/plain": [
       "<Figure size 720x432 with 1 Axes>"
      ]
     },
     "metadata": {
      "needs_background": "light"
     },
     "output_type": "display_data"
    }
   ],
   "source": [
    "# Training Accuracy vs Validation Accuracy graph\n",
    "\n",
    "plt.figure(figsize=(10,6))\n",
    "plt.plot(epochs_list, train_accuracy, 'r', label='Training Accuracy')\n",
    "plt.plot(epochs_list, test_accuracy, 'k', label='Validation Accuracy')\n",
    "plt.title('Training and Validation Accuracy')\n",
    "plt.xlabel('Epochs')\n",
    "plt.ylabel('Accuracy')\n",
    "plt.legend()\n",
    "plt.show()"
   ]
  }
 ],
 "metadata": {
  "kernelspec": {
   "display_name": "Python 3",
   "language": "python",
   "name": "python3"
  },
  "language_info": {
   "codemirror_mode": {
    "name": "ipython",
    "version": 3
   },
   "file_extension": ".py",
   "mimetype": "text/x-python",
   "name": "python",
   "nbconvert_exporter": "python",
   "pygments_lexer": "ipython3",
   "version": "3.7.3"
  }
 },
 "nbformat": 4,
 "nbformat_minor": 4
}
